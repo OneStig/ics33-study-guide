{
 "cells": [
  {
   "cell_type": "markdown",
   "metadata": {},
   "source": [
    "# The Python Data Model\n",
    "\n",
    "Many of Python's features rely on duck typing and the existence of protocols."
   ]
  },
  {
   "cell_type": "markdown",
   "metadata": {},
   "source": [
    "### Lengths\n",
    "\n",
    "An object is _sized_ if it can be asked for its length. This protocol can be implemented using the `__len__` dunder."
   ]
  },
  {
   "cell_type": "code",
   "execution_count": 1,
   "metadata": {},
   "outputs": [
    {
     "data": {
      "text/plain": [
       "8"
      ]
     },
     "execution_count": 1,
     "metadata": {},
     "output_type": "execute_result"
    }
   ],
   "source": [
    "len('a string') # sized"
   ]
  },
  {
   "cell_type": "code",
   "execution_count": 4,
   "metadata": {},
   "outputs": [
    {
     "data": {
      "text/plain": [
       "12"
      ]
     },
     "execution_count": 4,
     "metadata": {},
     "output_type": "execute_result"
    }
   ],
   "source": [
    "class LengthyThing:\n",
    "    def __init__(self, x):\n",
    "        self._x = x\n",
    "\n",
    "    def __len__(self):\n",
    "        return self._x\n",
    "\n",
    "example_thing = LengthyThing(12)\n",
    "len(example_thing)"
   ]
  },
  {
   "cell_type": "markdown",
   "metadata": {},
   "source": [
    "### Truthiness\n",
    "\n",
    "`None` is falsy, non-zero numbers are truthy, strings are truthy when non-empty etc. How does this extrapolate to other objects:\n",
    "\n",
    "1. `__bool__` - when this dunder is implemented, determines the truthiness of an object, otherwise:\n",
    "\n",
    "2. `__len__` - when an object is sized, if it has a non zero size it is truthy, otherwise\n",
    "\n",
    "3. All objects otherwise are considered truthy (the assumption that the existence of an object means some expression's value is not None)"
   ]
  },
  {
   "cell_type": "code",
   "execution_count": 5,
   "metadata": {},
   "outputs": [
    {
     "data": {
      "text/plain": [
       "True"
      ]
     },
     "execution_count": 5,
     "metadata": {},
     "output_type": "execute_result"
    }
   ],
   "source": [
    "bool(example_thing)"
   ]
  },
  {
   "cell_type": "code",
   "execution_count": 6,
   "metadata": {},
   "outputs": [
    {
     "data": {
      "text/plain": [
       "False"
      ]
     },
     "execution_count": 6,
     "metadata": {},
     "output_type": "execute_result"
    }
   ],
   "source": [
    "bool(LengthyThing(0))"
   ]
  },
  {
   "cell_type": "markdown",
   "metadata": {},
   "source": [
    "### Indexing\n"
   ]
  },
  {
   "cell_type": "markdown",
   "metadata": {},
   "source": [
    "### Indexing\n",
    "\n",
    "Indexable objects can implement `__getitem__(self, index)`, `__setitem__(self, index)`, and `__delitem__(self, index)`."
   ]
  },
  {
   "cell_type": "code",
   "execution_count": 10,
   "metadata": {},
   "outputs": [],
   "source": [
    "class Indexable:\n",
    "    def __init__(self):\n",
    "        pass\n",
    "\n",
    "    def __getitem__(self, index):\n",
    "        print(f'__getitem__ : {index}')\n",
    "\n",
    "    def __setitem__(self, index, value):\n",
    "        print(f'__setitem__ : {index} {value}')\n",
    "\n",
    "    def __delitem__(self, index):\n",
    "        print(f'__delitem__ : {index}')"
   ]
  },
  {
   "cell_type": "code",
   "execution_count": 11,
   "metadata": {},
   "outputs": [
    {
     "name": "stdout",
     "output_type": "stream",
     "text": [
      "__getitem__ : 2\n",
      "__setitem__ : 82 test\n",
      "__delitem__ : 11\n"
     ]
    }
   ],
   "source": [
    "indexable_obj = Indexable()\n",
    "\n",
    "indexable_obj[2]\n",
    "indexable_obj[82] = 'test'\n",
    "del indexable_obj[11]"
   ]
  },
  {
   "cell_type": "markdown",
   "metadata": {},
   "source": [
    "### Sequences\n",
    "\n",
    "When an object implements both `__len__` and `__getitem__`, it follows the sequence protocol which allows an object to become iterable without explicitly having an `__iter__` method.\n",
    "\n",
    "**Note from testing:**\n",
    "The implicit forward iterator only stops when `__getitem__` raises `IndexError`, and reversed uses `__len__` to determine when to stop. So a forward iterator only stops on IndexError regardless of whether or not `__len__` is implemented."
   ]
  },
  {
   "cell_type": "code",
   "execution_count": 21,
   "metadata": {},
   "outputs": [
    {
     "data": {
      "text/plain": [
       "3"
      ]
     },
     "execution_count": 21,
     "metadata": {},
     "output_type": "execute_result"
    }
   ],
   "source": [
    "class SequenceThing:\n",
    "    def __init__(self, x):\n",
    "        self._len = x\n",
    "\n",
    "    def __getitem__(self, index):\n",
    "        return index;\n",
    "\n",
    "    def __len__(self):\n",
    "        return self._len\n",
    "\n",
    "list(iter(SequenceThing(3)))"
   ]
  },
  {
   "cell_type": "code",
   "execution_count": 23,
   "metadata": {},
   "outputs": [
    {
     "data": {
      "text/plain": [
       "[4, 2, 0]"
      ]
     },
     "execution_count": 23,
     "metadata": {},
     "output_type": "execute_result"
    }
   ],
   "source": [
    "list(reversed(even_nums))"
   ]
  },
  {
   "cell_type": "markdown",
   "metadata": {},
   "source": [
    "When building sequences, we may often want to provide:\n",
    "\n",
    "1. `__iter__(self)` - to construct custom iteration\n",
    "\n",
    "2. `__reversed__(self)` - to construct custom reverse iteration\n",
    "\n",
    "3. `__contains__(self)` - so we can use the `in` keyword on this object"
   ]
  },
  {
   "cell_type": "markdown",
   "metadata": {},
   "source": [
    "### Slicing\n",
    "\n",
    "Slicing allows us to 'slice' a section of a sequence out of an object. The syntax is similar to indexing however instead of `obj[index]`, it's `obj[start:stop:step]`.\n",
    "\n",
    "For the indexing methods like `__getitem__`, the value passed into `index` is a slice object, which has attributes start, stop step."
   ]
  },
  {
   "cell_type": "code",
   "execution_count": 24,
   "metadata": {},
   "outputs": [
    {
     "name": "stdout",
     "output_type": "stream",
     "text": [
      "1\n",
      "slice(1, 2, 3)\n",
      "slice(1, None, 3)\n"
     ]
    }
   ],
   "source": [
    "class Sliceable:\n",
    "    def __getitem__(self, index):\n",
    "        print(index)\n",
    "\n",
    "some_object = Sliceable()\n",
    "some_object[1]\n",
    "some_object[1:2:3]\n",
    "some_object[1::3]"
   ]
  },
  {
   "cell_type": "markdown",
   "metadata": {},
   "source": [
    "We can also unpack the three values as such in case of negative values:\n",
    "```Python\n",
    "start, stop, step = index.indices(len(self))\n",
    "```"
   ]
  },
  {
   "cell_type": "markdown",
   "metadata": {},
   "source": [
    "### Hashing"
   ]
  },
  {
   "cell_type": "markdown",
   "metadata": {},
   "source": [
    "Hashing is a means to distill an object's meaning down to a single integer. Mutable objects shouldn't be hashable because their meaning can change quite easily."
   ]
  },
  {
   "cell_type": "code",
   "execution_count": 25,
   "metadata": {},
   "outputs": [
    {
     "data": {
      "text/plain": [
       "1294980323861224649"
      ]
     },
     "execution_count": 25,
     "metadata": {},
     "output_type": "execute_result"
    }
   ],
   "source": [
    "hash('hello world')"
   ]
  },
  {
   "cell_type": "code",
   "execution_count": 26,
   "metadata": {},
   "outputs": [
    {
     "ename": "TypeError",
     "evalue": "unhashable type: 'list'",
     "output_type": "error",
     "traceback": [
      "\u001b[0;31m---------------------------------------------------------------------------\u001b[0m",
      "\u001b[0;31mTypeError\u001b[0m                                 Traceback (most recent call last)",
      "Cell \u001b[0;32mIn[26], line 1\u001b[0m\n\u001b[0;32m----> 1\u001b[0m \u001b[38;5;28;43mhash\u001b[39;49m\u001b[43m(\u001b[49m\u001b[43m[\u001b[49m\u001b[38;5;124;43m'\u001b[39;49m\u001b[38;5;124;43mhello world\u001b[39;49m\u001b[38;5;124;43m'\u001b[39;49m\u001b[43m]\u001b[49m\u001b[43m)\u001b[49m\n",
      "\u001b[0;31mTypeError\u001b[0m: unhashable type: 'list'"
     ]
    }
   ],
   "source": [
    "hash(['hello world'])"
   ]
  },
  {
   "cell_type": "markdown",
   "metadata": {},
   "source": [
    "Hashable objects implement the dunder `__hash__(self)`, which returns a single integer that accounts for all of its data. Often times this means combining all of an objects attributes into a tuple and hashing said tuple."
   ]
  },
  {
   "cell_type": "markdown",
   "metadata": {},
   "source": [
    "It's also good practice to implement equivalence for hashables, because we generally want two things that are equivalent to have the same hash and things with different hashes to not be equivalent."
   ]
  },
  {
   "cell_type": "markdown",
   "metadata": {},
   "source": [
    "### Comparison"
   ]
  },
  {
   "cell_type": "markdown",
   "metadata": {},
   "source": [
    "Between two objects we may compare equality with `==` or `!=` and identity with `is` or `is not`.\n",
    "\n",
    "Equality asks \"do these two objects contain the same thing\" whereas identity asks \"are these objects literally the same object\". `a is b` can be thought of as `id(a) == id(b)`."
   ]
  },
  {
   "cell_type": "code",
   "execution_count": 28,
   "metadata": {},
   "outputs": [
    {
     "name": "stdout",
     "output_type": "stream",
     "text": [
      "4517190272 4517194816 4517190272\n",
      "False\n",
      "True\n",
      "True\n",
      "True\n"
     ]
    }
   ],
   "source": [
    "a = [1, 2, 3]\n",
    "b = [1, 2, 3]\n",
    "c = a\n",
    "print(id(a), id(b), id(c))\n",
    "print(a is b)\n",
    "print(a is c)\n",
    "print(a == b)\n",
    "print(a == b)"
   ]
  },
  {
   "cell_type": "markdown",
   "metadata": {},
   "source": [
    "The other relational comparison operators which evaluate to booleans:\n",
    "`<`, `>`, `<=`, `>=`"
   ]
  },
  {
   "cell_type": "markdown",
   "metadata": {},
   "source": [
    "### Implementing comparisons\n",
    "\n",
    "For comparisons of the form `self comparator other`, we can implement the following methods:\n",
    "\n",
    "- `__lt__(self, other)` : $<$ (less than)\n",
    "\n",
    "- `__gt__(self, other)` : $>$ (greater than)\n",
    "\n",
    "- `__le__(self, other)` : $\\le$ (less than or equal to)\n",
    "\n",
    "- `__ge__(self, other)` : $\\ge$ (greater than or equal to)\n",
    "\n",
    "- `__eq__(self, other)` : $=$ (equivalent)\n",
    "\n",
    "- `__neq__(self, other)` : $\\neq$ (not equivalent)\n",
    "\n",
    "- And the operator `is` cannot be overriden\n",
    "\n",
    "Conditions that are the complement can automatically be implied, for example implementing `__eq__` means that `__neq__` will be the opposite unless otherwise specified. Implementing < will also handle >, and <= will handle >=, however `lt` and `eq` does not imply `le`."
   ]
  }
 ],
 "metadata": {
  "kernelspec": {
   "display_name": "Python 3",
   "language": "python",
   "name": "python3"
  },
  "language_info": {
   "codemirror_mode": {
    "name": "ipython",
    "version": 3
   },
   "file_extension": ".py",
   "mimetype": "text/x-python",
   "name": "python",
   "nbconvert_exporter": "python",
   "pygments_lexer": "ipython3",
   "version": "3.12.1"
  }
 },
 "nbformat": 4,
 "nbformat_minor": 2
}
