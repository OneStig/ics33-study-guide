{
 "cells": [
  {
   "cell_type": "markdown",
   "metadata": {},
   "source": [
    "# Functions and Their Parameters"
   ]
  },
  {
   "cell_type": "markdown",
   "metadata": {},
   "source": [
    "\n",
    "For clarification, _parameters_ are part of the method signature or the variables listed in the function definition. On the other hand _arguments_ are the actual values passed in to the function."
   ]
  },
  {
   "cell_type": "markdown",
   "metadata": {},
   "source": [
    "**Parameter flexibility**:\n",
    "A good example of a function with flexible inputs is `print`, for e.g. `print('hello world')`, `print('hello', 'world')`, `print('hello', 'world', end='!')` are all valid print statements."
   ]
  },
  {
   "cell_type": "markdown",
   "metadata": {},
   "source": [
    "**The two types of arguments**\n",
    "1. _Positional Arguments_, which get matched to their corresponding parameters based on their _position_ or the order by which they are passed in.\n",
    "2. _Keyword Arguments_, which are matched to their corresponding parameters based on how they map to the name of an existing parameter. "
   ]
  },
  {
   "cell_type": "markdown",
   "metadata": {},
   "source": [
    "### Positional Arguments\n",
    "Suppose we had the following function:"
   ]
  },
  {
   "cell_type": "code",
   "execution_count": 2,
   "metadata": {},
   "outputs": [],
   "source": [
    "def y(m, x, b):\n",
    "    return m * x + b"
   ]
  },
  {
   "cell_type": "markdown",
   "metadata": {},
   "source": [
    "We can pass arguments positionally, in the order of `m, x, b` with comma separation, or we can unpack values with `*` to be passed into those positions."
   ]
  },
  {
   "cell_type": "code",
   "execution_count": 7,
   "metadata": {},
   "outputs": [
    {
     "name": "stdout",
     "output_type": "stream",
     "text": [
      "17 17 17 17\n"
     ]
    }
   ],
   "source": [
    "# The unpacking must be done on something iterable\n",
    "some_tuple = (3, 4, 5)\n",
    "some_list = [3, 4, 5]\n",
    "\n",
    "print(y(3, 4, 5), y(*some_tuple), y(*some_list), y(*range(3, 6)))"
   ]
  },
  {
   "cell_type": "code",
   "execution_count": 8,
   "metadata": {},
   "outputs": [
    {
     "data": {
      "text/plain": [
       "17"
      ]
     },
     "execution_count": 8,
     "metadata": {},
     "output_type": "execute_result"
    }
   ],
   "source": [
    "# We can also unpack only some of the arguments\n",
    "other_tuple = (4, 5)\n",
    "y(3, *other_tuple)"
   ]
  },
  {
   "cell_type": "code",
   "execution_count": 9,
   "metadata": {},
   "outputs": [
    {
     "ename": "TypeError",
     "evalue": "y() takes 3 positional arguments but 4 were given",
     "output_type": "error",
     "traceback": [
      "\u001b[0;31m---------------------------------------------------------------------------\u001b[0m",
      "\u001b[0;31mTypeError\u001b[0m                                 Traceback (most recent call last)",
      "Cell \u001b[0;32mIn[9], line 2\u001b[0m\n\u001b[1;32m      1\u001b[0m \u001b[38;5;66;03m# And as expected, unpacking the wrong number of arguments is bad\u001b[39;00m\n\u001b[0;32m----> 2\u001b[0m \u001b[43my\u001b[49m\u001b[43m(\u001b[49m\u001b[38;5;241;43m*\u001b[39;49m\u001b[38;5;28;43mrange\u001b[39;49m\u001b[43m(\u001b[49m\u001b[38;5;241;43m3\u001b[39;49m\u001b[43m,\u001b[49m\u001b[43m \u001b[49m\u001b[38;5;241;43m7\u001b[39;49m\u001b[43m)\u001b[49m\u001b[43m)\u001b[49m \u001b[38;5;66;03m# the same as trying to do y(3, 4, 5, 6)\u001b[39;00m\n",
      "\u001b[0;31mTypeError\u001b[0m: y() takes 3 positional arguments but 4 were given"
     ]
    }
   ],
   "source": [
    "# And as expected, unpacking the wrong number of arguments is bad\n",
    "y(*range(3, 7)) # the same as trying to do y(3, 4, 5, 6)"
   ]
  },
  {
   "cell_type": "markdown",
   "metadata": {},
   "source": [
    "### Keyword Arguments\n",
    "But we can also pass in arguments with keywords as such:"
   ]
  },
  {
   "cell_type": "code",
   "execution_count": 12,
   "metadata": {},
   "outputs": [
    {
     "data": {
      "text/plain": [
       "17"
      ]
     },
     "execution_count": 12,
     "metadata": {},
     "output_type": "execute_result"
    }
   ],
   "source": [
    "y(x = 4, b = 5, m = 3) # positionally these are in the order m, x, b"
   ]
  },
  {
   "cell_type": "markdown",
   "metadata": {},
   "source": [
    "This means we can also unpack dictionaries to become keyword arguments:"
   ]
  },
  {
   "cell_type": "code",
   "execution_count": 16,
   "metadata": {},
   "outputs": [
    {
     "data": {
      "text/plain": [
       "17"
      ]
     },
     "execution_count": 16,
     "metadata": {},
     "output_type": "execute_result"
    }
   ],
   "source": [
    "some_dictionary = {'x': 4, 'b': 5, 'm': 3}\n",
    "y(**some_dictionary)"
   ]
  },
  {
   "cell_type": "markdown",
   "metadata": {},
   "source": [
    "**Notably** we need to use `**` to unpack this dictionary. If we had done `*` instead, it would have unpacked the keys of the dictionary, which would have been the equivalent of `y('x', 'b', 'm')` (obviously not what we want). This makes sense, because dictionaries are also iterable just like lists and tuples, however iterating over them generally iterates over its keys."
   ]
  },
  {
   "cell_type": "markdown",
   "metadata": {},
   "source": [
    "### Positional and Keyword arguments in unison\n",
    "We can also use both of these types of arguments at the same time, following certain rules:\n",
    "Most importantly, positional arguments must all come before keyword arguments (otherwise how would we know what order they are in)."
   ]
  },
  {
   "cell_type": "code",
   "execution_count": 18,
   "metadata": {},
   "outputs": [
    {
     "data": {
      "text/plain": [
       "17"
      ]
     },
     "execution_count": 18,
     "metadata": {},
     "output_type": "execute_result"
    }
   ],
   "source": [
    "y(3, **{'b': 5, 'x': 4}) # this is fine"
   ]
  },
  {
   "cell_type": "code",
   "execution_count": 20,
   "metadata": {},
   "outputs": [
    {
     "ename": "SyntaxError",
     "evalue": "positional argument follows keyword argument unpacking (1911668224.py, line 1)",
     "output_type": "error",
     "traceback": [
      "\u001b[0;36m  Cell \u001b[0;32mIn[20], line 1\u001b[0;36m\u001b[0m\n\u001b[0;31m    y(**{'b': 5, 'x': 4}, 3) # this is not, despite it being clear what I'm trying to do\u001b[0m\n\u001b[0m                           ^\u001b[0m\n\u001b[0;31mSyntaxError\u001b[0m\u001b[0;31m:\u001b[0m positional argument follows keyword argument unpacking\n"
     ]
    }
   ],
   "source": [
    "y(**{'b': 5, 'x': 4}, 3) # this is not, despite it being clear what I'm trying to do"
   ]
  },
  {
   "cell_type": "markdown",
   "metadata": {},
   "source": [
    "### Designing the parameters\n",
    "Since there are different ways we can pass in arguments, there are also different ways we can design our function's parameters to accept said arguments."
   ]
  },
  {
   "cell_type": "markdown",
   "metadata": {},
   "source": [
    "**1. Default arguments**\n",
    "We can give parameters default arguments, with the syntax below. A few things to note:\n",
    "- If a parameter is given a default argument, then all subsequent parameters must have them as well. This makes sense, because if they have default parameters, they're essentially optional and once we specify one, the idea of positionality is sort of lost.\n",
    "- It's generally bad practice to use mutable types as default arguments. When we define a function with default arguments they are stored under `func.__defaults__`, which can carry over between calls in erroneous ways."
   ]
  },
  {
   "cell_type": "code",
   "execution_count": 2,
   "metadata": {},
   "outputs": [
    {
     "name": "stdout",
     "output_type": "stream",
     "text": [
      "3 5\n"
     ]
    }
   ],
   "source": [
    "def add(first, second = None):\n",
    "    if second is not None:\n",
    "        return first + second\n",
    "    \n",
    "    return first\n",
    "\n",
    "print(add(1, 2), add(5))"
   ]
  },
  {
   "cell_type": "markdown",
   "metadata": {},
   "source": [
    "**2. Variable number of arguments**\n",
    "This is essentially the opposite of unpacking. Instead of `*(a, b, ...,  c)` translating to `a, b, ..., c`, we can do it the other way around. A parameter that allows this is called a _tuple-packing parameter_:"
   ]
  },
  {
   "cell_type": "code",
   "execution_count": 5,
   "metadata": {},
   "outputs": [
    {
     "name": "stdout",
     "output_type": "stream",
     "text": [
      "<class 'tuple'> 5 ('world', 'foo', 'bar', 1234, True)\n"
     ]
    }
   ],
   "source": [
    "def some_func(x, *args):\n",
    "    print(type(args), len(args), args)\n",
    "\n",
    "some_func('hello', 'world', 'foo', 'bar', 1234, True)"
   ]
  },
  {
   "cell_type": "markdown",
   "metadata": {},
   "source": [
    "Note that 'hello' is not in the tuple because it was passed into x. Then all _remaining_ arguments get packed into the parameter `args`."
   ]
  },
  {
   "cell_type": "markdown",
   "metadata": {},
   "source": [
    "**3. Setting positional and keyword requirements**\n",
    "The example above then begs the question, what happens if we define parameters after the tuple-packing parameter. Parameters that follow can only be passed by _keyword_, because as we would imagine, if all remaining positional arguments are packed into `args`, then the only way to specify everything else must be keyword arguments.\n",
    "\n",
    "This idea leads to the following syntax, which means everything after the `*` must be passed as a keyword argument."
   ]
  },
  {
   "cell_type": "code",
   "execution_count": 6,
   "metadata": {},
   "outputs": [],
   "source": [
    "def valid_func(a, b, *, c):\n",
    "    pass"
   ]
  },
  {
   "cell_type": "markdown",
   "metadata": {},
   "source": [
    "In this case a and b can be passed however we want. I think it's easiest to think of the `*` as an arbitrary tuple-packing parameter that we submit all remaining positional arguments into, such that `c` must be passed by keyword, although it's important to note that this isn't entirely true, just a potentially useful way to think about it:"
   ]
  },
  {
   "cell_type": "code",
   "execution_count": 8,
   "metadata": {},
   "outputs": [
    {
     "ename": "TypeError",
     "evalue": "valid_func() takes 2 positional arguments but 3 positional arguments (and 1 keyword-only argument) were given",
     "output_type": "error",
     "traceback": [
      "\u001b[0;31m---------------------------------------------------------------------------\u001b[0m",
      "\u001b[0;31mTypeError\u001b[0m                                 Traceback (most recent call last)",
      "Cell \u001b[0;32mIn[8], line 1\u001b[0m\n\u001b[0;32m----> 1\u001b[0m \u001b[43mvalid_func\u001b[49m\u001b[43m(\u001b[49m\u001b[38;5;241;43m1\u001b[39;49m\u001b[43m,\u001b[49m\u001b[43m \u001b[49m\u001b[38;5;241;43m1\u001b[39;49m\u001b[43m,\u001b[49m\u001b[43m \u001b[49m\u001b[38;5;241;43m2\u001b[39;49m\u001b[43m,\u001b[49m\u001b[43m \u001b[49m\u001b[43mc\u001b[49m\u001b[43m \u001b[49m\u001b[38;5;241;43m=\u001b[39;49m\u001b[43m \u001b[49m\u001b[38;5;241;43m3\u001b[39;49m\u001b[43m)\u001b[49m\n",
      "\u001b[0;31mTypeError\u001b[0m: valid_func() takes 2 positional arguments but 3 positional arguments (and 1 keyword-only argument) were given"
     ]
    }
   ],
   "source": [
    "valid_func(1, 1, 2, c = 3)"
   ]
  },
  {
   "cell_type": "code",
   "execution_count": 11,
   "metadata": {},
   "outputs": [
    {
     "ename": "SyntaxError",
     "evalue": "* argument may appear only once (3155532679.py, line 1)",
     "output_type": "error",
     "traceback": [
      "\u001b[0;36m  Cell \u001b[0;32mIn[11], line 1\u001b[0;36m\u001b[0m\n\u001b[0;31m    def not_valid_func(*args, *, some_kwarg):\u001b[0m\n\u001b[0m                              ^\u001b[0m\n\u001b[0;31mSyntaxError\u001b[0m\u001b[0;31m:\u001b[0m * argument may appear only once\n"
     ]
    }
   ],
   "source": [
    "def not_valid_func(*args, *, some_kwarg):\n",
    "    pass"
   ]
  },
  {
   "cell_type": "markdown",
   "metadata": {},
   "source": [
    "In the example above, a and b could be passed either positionally or as keywords, so there's another rule we can establish: Listing `/` as a parameter makes everything on its left positional only."
   ]
  },
  {
   "cell_type": "code",
   "execution_count": null,
   "metadata": {},
   "outputs": [],
   "source": [
    "def still_valid(a, /, b, *, c):\n",
    "    pass"
   ]
  },
  {
   "cell_type": "markdown",
   "metadata": {},
   "source": [
    "In `still_valid`, `a` must be passed positionally, `b` can be passed however, and `c` must be a keyword argument."
   ]
  },
  {
   "cell_type": "markdown",
   "metadata": {},
   "source": [
    "**4. Dictionary packing**\n",
    "Since we could pack positional arguments into tuples, there's no reason we shouldn't be able to pack keyword arguments into dictionaries:"
   ]
  },
  {
   "cell_type": "code",
   "execution_count": 9,
   "metadata": {},
   "outputs": [
    {
     "name": "stdout",
     "output_type": "stream",
     "text": [
      "('hello', 12)\n",
      "{'number': 42, 'truth': False, 'name': 'boo'}\n"
     ]
    }
   ],
   "source": [
    "def func(*args, **kwargs):\n",
    "    print(args)\n",
    "    print(kwargs)\n",
    "\n",
    "func('hello', 12, number = 42, truth = False, name = 'boo')"
   ]
  },
  {
   "cell_type": "markdown",
   "metadata": {},
   "source": [
    "**Final self-consistent observations:**\n",
    "- Only one tuple-packing parameter can be listed, and no positional parameters can follow it.\n",
    "- Only one dictionary-packing parameter can be listed, and no parameters at all can follow it."
   ]
  }
 ],
 "metadata": {
  "kernelspec": {
   "display_name": "Python 3",
   "language": "python",
   "name": "python3"
  },
  "language_info": {
   "codemirror_mode": {
    "name": "ipython",
    "version": 3
   },
   "file_extension": ".py",
   "mimetype": "text/x-python",
   "name": "python",
   "nbconvert_exporter": "python",
   "pygments_lexer": "ipython3",
   "version": "3.12.1"
  }
 },
 "nbformat": 4,
 "nbformat_minor": 2
}
