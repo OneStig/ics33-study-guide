{
 "cells": [
  {
   "cell_type": "markdown",
   "metadata": {},
   "source": [
    "# Using Generators"
   ]
  },
  {
   "cell_type": "markdown",
   "metadata": {},
   "source": [
    "Generators:\n",
    "\n",
    "1. Isolate how we generate a sequence and what we do with it\n",
    "\n",
    "2. Lazily produce values\n",
    "\n",
    "3. Can stop generating for arbitrary reasons"
   ]
  },
  {
   "cell_type": "markdown",
   "metadata": {},
   "source": [
    "We can also build generators with comprehensions, consider the examples below which are basically equivalent, but different syntactically:"
   ]
  },
  {
   "cell_type": "code",
   "execution_count": 1,
   "metadata": {},
   "outputs": [
    {
     "data": {
      "text/plain": [
       "True"
      ]
     },
     "execution_count": 1,
     "metadata": {},
     "output_type": "execute_result"
    }
   ],
   "source": [
    "def squares_generator():\n",
    "    for x in range(10):\n",
    "        yield x * x\n",
    "\n",
    "first_generator = squares_generator()\n",
    "second_generator = (x * x for x in range(10))\n",
    "\n",
    "list(first_generator) == list(second_generator)"
   ]
  },
  {
   "cell_type": "markdown",
   "metadata": {},
   "source": [
    "But what is the point of doing `list(second_generator)`, when we could have applied the same comprehension to a list.\n",
    "\n",
    "> Suppose we weren't building a list, but instead iterating over some of the values, but not necessarily all of them. A list comprehension would construct every single value, and we would select the one we need, however a generator would only produce as many values as we need."
   ]
  },
  {
   "cell_type": "markdown",
   "metadata": {},
   "source": [
    "### Infinite generators\n",
    "\n",
    "We can also legally write generators that yield an infinite amount of values"
   ]
  },
  {
   "cell_type": "code",
   "execution_count": 2,
   "metadata": {},
   "outputs": [
    {
     "data": {
      "text/plain": [
       "0"
      ]
     },
     "execution_count": 2,
     "metadata": {},
     "output_type": "execute_result"
    }
   ],
   "source": [
    "def count():\n",
    "    start = 0\n",
    "    while True:\n",
    "        yield start\n",
    "        start += 1\n",
    "\n",
    "counter = count()\n",
    "next(counter)"
   ]
  },
  {
   "cell_type": "code",
   "execution_count": 3,
   "metadata": {},
   "outputs": [
    {
     "data": {
      "text/plain": [
       "1"
      ]
     },
     "execution_count": 3,
     "metadata": {},
     "output_type": "execute_result"
    }
   ],
   "source": [
    "next(counter)"
   ]
  },
  {
   "cell_type": "markdown",
   "metadata": {},
   "source": [
    "Even though we technically would generate an infinite amount of values, as long as I only ask for a finite amount of values, the generator will only do a finite amount of work.\n",
    "\n",
    "Of course this means this would not be allowed:"
   ]
  },
  {
   "cell_type": "code",
   "execution_count": null,
   "metadata": {},
   "outputs": [],
   "source": [
    "for x in counter(): # don't run this block lol\n",
    "    pass"
   ]
  },
  {
   "cell_type": "markdown",
   "metadata": {},
   "source": [
    "### Combining generators\n",
    "\n",
    "It's very natural that we may have generators that yield values based on values yielded from other generators. For example, we can write a generator that yields a finite amount of values from our infinite generator above."
   ]
  },
  {
   "cell_type": "code",
   "execution_count": 6,
   "metadata": {},
   "outputs": [],
   "source": [
    "def take5(thing):\n",
    "    for _ in range(5):\n",
    "        yield next(thing)"
   ]
  },
  {
   "cell_type": "code",
   "execution_count": 13,
   "metadata": {},
   "outputs": [
    {
     "data": {
      "text/plain": [
       "[0, 1, 2, 3, 4]"
      ]
     },
     "execution_count": 13,
     "metadata": {},
     "output_type": "execute_result"
    }
   ],
   "source": [
    "list(take5(count()))\n",
    "\n",
    "# casting to list forces take5 to keep yielding until StopIteration"
   ]
  },
  {
   "cell_type": "markdown",
   "metadata": {},
   "source": [
    "Keep in mind this example does not account for `thing` raising StopIteration."
   ]
  },
  {
   "cell_type": "markdown",
   "metadata": {},
   "source": [
    "### Forwarding everything\n",
    "\n",
    "If we want to force a generator to yield all of it's values we can use the syntax `yield from`, which can be particularly useful when we don't want to allocate memory to store values, so that it can immediately be forwarded onwards."
   ]
  },
  {
   "cell_type": "markdown",
   "metadata": {},
   "source": [
    "A lot of problems that need to be solved in different software are already built in to Python, and utilize iteration. Some are built in, and some are included in the [`itertools` module](https://docs.python.org/3.12/library/itertools.html) which is part of Python's standard library."
   ]
  }
 ],
 "metadata": {
  "kernelspec": {
   "display_name": "Python 3",
   "language": "python",
   "name": "python3"
  },
  "language_info": {
   "codemirror_mode": {
    "name": "ipython",
    "version": 3
   },
   "file_extension": ".py",
   "mimetype": "text/x-python",
   "name": "python",
   "nbconvert_exporter": "python",
   "pygments_lexer": "ipython3",
   "version": "3.12.1"
  }
 },
 "nbformat": 4,
 "nbformat_minor": 2
}
