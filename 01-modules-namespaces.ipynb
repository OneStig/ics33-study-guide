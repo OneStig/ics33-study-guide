{
 "cells": [
  {
   "cell_type": "markdown",
   "id": "ea4f5c5b",
   "metadata": {},
   "source": [
    "# 1. Modules and Namespaces"
   ]
  },
  {
   "cell_type": "markdown",
   "id": "35c772a1",
   "metadata": {},
   "source": [
    "### Fundamental Observations\n",
    "The built-in python function `dir()` provides a mechanism that asks, \"what is available here in this particular scope?\""
   ]
  },
  {
   "cell_type": "code",
   "execution_count": 7,
   "id": "a1fce7f0",
   "metadata": {},
   "outputs": [
    {
     "data": {
      "text/plain": [
       "['In',\n",
       " 'Out',\n",
       " '_',\n",
       " '_1',\n",
       " '_3',\n",
       " '_4',\n",
       " '_5',\n",
       " '_6',\n",
       " '__',\n",
       " '___',\n",
       " '__builtin__',\n",
       " '__builtins__',\n",
       " '__doc__',\n",
       " '__loader__',\n",
       " '__name__',\n",
       " '__package__',\n",
       " '__spec__',\n",
       " '__vsc_ipynb_file__',\n",
       " '_dh',\n",
       " '_i',\n",
       " '_i1',\n",
       " '_i2',\n",
       " '_i3',\n",
       " '_i4',\n",
       " '_i5',\n",
       " '_i6',\n",
       " '_i7',\n",
       " '_ih',\n",
       " '_ii',\n",
       " '_iii',\n",
       " '_oh',\n",
       " 'exit',\n",
       " 'get_ipython',\n",
       " 'open',\n",
       " 'quit']"
      ]
     },
     "execution_count": 7,
     "metadata": {},
     "output_type": "execute_result"
    }
   ],
   "source": [
    "dir()"
   ]
  },
  {
   "cell_type": "markdown",
   "id": "ea31bd2e",
   "metadata": {},
   "source": [
    "Normally we would see something more like `['__builtins__', '__doc__', '__file__', '__loader__', '__name__', '__package__', '__spec__', 'sys']` but this is a python notebook so there are some more options.\n",
    "\n",
    "Either way, these identifiers represent things accessible in the current scope, which means we can look at both their values and types."
   ]
  },
  {
   "cell_type": "markdown",
   "id": "510c7444",
   "metadata": {},
   "source": [
    "Generally when not in a notebook `__builtins__` is a dictionary that represents the names of things that are built into Python (usable without importing any modules). Because it acts like a dictionary, we can use it as such e.g. `__builtins__['list'](stuff)` corresponds to `list(stuff)`. We could also technically manipulate this dictionary to redefine what is \"built in\" to Python, although this is generally not advisable, just something to keep in mind in terms of how Python works."
   ]
  },
  {
   "cell_type": "markdown",
   "id": "e8307faa",
   "metadata": {},
   "source": [
    "### Scopes, namespaces, functions\n",
    "\n",
    "Now suppose we declare a variable, how does the output of `dir()` change?"
   ]
  },
  {
   "cell_type": "code",
   "execution_count": 4,
   "id": "39cdb2ad",
   "metadata": {},
   "outputs": [
    {
     "data": {
      "text/plain": [
       "False"
      ]
     },
     "execution_count": 4,
     "metadata": {},
     "output_type": "execute_result"
    }
   ],
   "source": [
    "'abc' in dir()"
   ]
  },
  {
   "cell_type": "code",
   "execution_count": 5,
   "id": "add07df1",
   "metadata": {},
   "outputs": [
    {
     "data": {
      "text/plain": [
       "True"
      ]
     },
     "execution_count": 5,
     "metadata": {},
     "output_type": "execute_result"
    }
   ],
   "source": [
    "hello = 'world'\n",
    "'hello' in dir()"
   ]
  },
  {
   "cell_type": "code",
   "execution_count": 6,
   "id": "9d71dcc4",
   "metadata": {},
   "outputs": [
    {
     "data": {
      "text/plain": [
       "False"
      ]
     },
     "execution_count": 6,
     "metadata": {},
     "output_type": "execute_result"
    }
   ],
   "source": [
    "del hello\n",
    "'hello' in dir()"
   ]
  },
  {
   "cell_type": "markdown",
   "id": "cb8f467a",
   "metadata": {},
   "source": [
    "These observations seem to suggest that the creation of an identifier adds it to some directory, and deleting it removes it as such. The creation of functions is also the same as the `def` statement is equivalent to declaring some variable, and storing a function object within it."
   ]
  },
  {
   "cell_type": "markdown",
   "id": "507c0fd5",
   "metadata": {},
   "source": [
    "### LEGB\n",
    "LEGB is a rule that represents how identifier resolution occurs in Python. LEGB: Local, Enclosed, Global, Builtins. When we utilize any identifier in Python, the way it is _resolved_ is through looking these scopes in the order of L -> E -> G -> B.\n",
    "\n",
    "The `__builtins__` method from earlier seems to show us what exists in builtins. We can also use `locals()` and `globals()` to see what exists in those scopes as well."
   ]
  },
  {
   "cell_type": "code",
   "execution_count": 8,
   "id": "31102792",
   "metadata": {},
   "outputs": [
    {
     "data": {
      "text/plain": [
       "dict_keys(['__name__', '__doc__', '__package__', '__loader__', '__spec__', '__builtin__', '__builtins__', '_ih', '_oh', '_dh', 'In', 'Out', 'get_ipython', 'exit', 'quit', 'open', '_', '__', '___', '__vsc_ipynb_file__', '_i', '_ii', '_iii', '_i1', '_1', '_i2', '_i3', '_3', '_i4', '_4', '_i5', '_5', '_i6', '_6', '_i7', '_7', '_i8'])"
      ]
     },
     "execution_count": 8,
     "metadata": {},
     "output_type": "execute_result"
    }
   ],
   "source": [
    "globals().keys()"
   ]
  },
  {
   "cell_type": "code",
   "execution_count": 9,
   "id": "b1b38d23",
   "metadata": {},
   "outputs": [
    {
     "data": {
      "text/plain": [
       "dict_keys(['__name__', '__doc__', '__package__', '__loader__', '__spec__', '__builtin__', '__builtins__', '_ih', '_oh', '_dh', 'In', 'Out', 'get_ipython', 'exit', 'quit', 'open', '_', '__', '___', '__vsc_ipynb_file__', '_i', '_ii', '_iii', '_i1', '_1', '_i2', '_i3', '_3', '_i4', '_4', '_i5', '_5', '_i6', '_6', '_i7', '_7', '_i8', '_8', '_i9'])"
      ]
     },
     "execution_count": 9,
     "metadata": {},
     "output_type": "execute_result"
    }
   ],
   "source": [
    "locals().keys()"
   ]
  },
  {
   "cell_type": "markdown",
   "id": "e7c69ffb",
   "metadata": {},
   "source": [
    "Notice how these two outputs are the same. In this notebook, when we're not in a function the local scope is the same as the global scope, however if we access these in a function, we should expect to see something different."
   ]
  },
  {
   "cell_type": "code",
   "execution_count": 10,
   "id": "76d687e4",
   "metadata": {},
   "outputs": [],
   "source": [
    "def first(x):\n",
    "    def second(y):\n",
    "        # Let's describe LEGB relative to this point in the code\n",
    "        return x + y\n",
    "    \n",
    "    return second(4)"
   ]
  },
  {
   "cell_type": "markdown",
   "id": "15476cce",
   "metadata": {},
   "source": [
    "Relative to that comment **L (local):** `y`is local because it exists within second. **E (enclosed):** `x` is enclosed relative to the comment, because it is local to the scope (first) that _encloses_ the scope of second. **G (global):** something like `__name__` is still global here. **B (builtins):** anyting that is a builtin type to python is still built in here like `int`. See notes for an example that verifies this with calls to `locals()` and `globals()` at various points."
   ]
  },
  {
   "cell_type": "markdown",
   "id": "f1a881f4",
   "metadata": {},
   "source": [
    "### Modules and Importing"
   ]
  },
  {
   "cell_type": "code",
   "execution_count": 11,
   "id": "487d5c0b",
   "metadata": {},
   "outputs": [
    {
     "data": {
      "text/plain": [
       "False"
      ]
     },
     "execution_count": 11,
     "metadata": {},
     "output_type": "execute_result"
    }
   ],
   "source": [
    "'math' in dir()"
   ]
  },
  {
   "cell_type": "code",
   "execution_count": 13,
   "id": "8d346d7f",
   "metadata": {},
   "outputs": [
    {
     "data": {
      "text/plain": [
       "True"
      ]
     },
     "execution_count": 13,
     "metadata": {},
     "output_type": "execute_result"
    }
   ],
   "source": [
    "import math\n",
    "'math' in dir()"
   ]
  },
  {
   "cell_type": "markdown",
   "id": "60870737",
   "metadata": {},
   "source": [
    "In this case, math is a `module` which when imported because accessible for us to use, thus we can do things like `math.sqrt(9)`. On the other hand we can see what happens when we use `from` to import."
   ]
  },
  {
   "cell_type": "code",
   "execution_count": 15,
   "id": "282433e8",
   "metadata": {},
   "outputs": [
    {
     "data": {
      "text/plain": [
       "False"
      ]
     },
     "execution_count": 15,
     "metadata": {},
     "output_type": "execute_result"
    }
   ],
   "source": [
    "'sqrt' in dir()"
   ]
  },
  {
   "cell_type": "code",
   "execution_count": 16,
   "id": "fc4372cd",
   "metadata": {},
   "outputs": [
    {
     "data": {
      "text/plain": [
       "True"
      ]
     },
     "execution_count": 16,
     "metadata": {},
     "output_type": "execute_result"
    }
   ],
   "source": [
    "from math import sqrt\n",
    "'sqrt' in dir()"
   ]
  },
  {
   "cell_type": "markdown",
   "id": "35ff7608",
   "metadata": {},
   "source": [
    "In summary, when we import a module, the _module_ becomes accessible, however when we import something from a module, that thing we imported becomes accessible. **Note:** It is also possible to import modules into a scope other than the global one. Although we usually import at the top of a file, if it's done in the scope of a function, whatever is imported is only available within the scope of said function."
   ]
  },
  {
   "cell_type": "markdown",
   "id": "1f1118c4",
   "metadata": {},
   "source": [
    "**Practice Q:** What is the difference between `import module` and `from module import *`, and why is the latter statement often problematic?\n",
    "\n",
    "When we `import module`, `module` becomes accessible for us to use its members, however `from module import *` takes everything inside module and dumps it into our accessible directory. This could be problematic `module` had a method called `foo`, but our own module also had a similarly named method. Instead of importing everything, `import module` allows us to do `module.foo` instead."
   ]
  }
 ],
 "metadata": {
  "kernelspec": {
   "display_name": "Python 3",
   "language": "python",
   "name": "python3"
  },
  "language_info": {
   "codemirror_mode": {
    "name": "ipython",
    "version": 3
   },
   "file_extension": ".py",
   "mimetype": "text/x-python",
   "name": "python",
   "nbconvert_exporter": "python",
   "pygments_lexer": "ipython3",
   "version": "3.12.1"
  }
 },
 "nbformat": 4,
 "nbformat_minor": 5
}
