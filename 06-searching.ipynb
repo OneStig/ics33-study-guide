{
 "cells": [
  {
   "cell_type": "markdown",
   "metadata": {},
   "source": [
    "# Searching\n",
    "\n",
    "Searching is simply the process of finding some data that we've stored in some sort of data structure."
   ]
  },
  {
   "cell_type": "markdown",
   "metadata": {},
   "source": [
    "Suppose we have a list of integers in Python, in which we want to find where some element exists, if it exists at all. Assuming we know nothing else about this list, we can apply sequential search, or literally traversing the list until we find what we want, (or don't)."
   ]
  },
  {
   "cell_type": "code",
   "execution_count": null,
   "metadata": {},
   "outputs": [],
   "source": [
    "def sequential_search(items, key):\n",
    "    for i in range(len(items)):\n",
    "        if items[i] == key:\n",
    "            return i\n",
    "    \n",
    "    return None"
   ]
  },
  {
   "cell_type": "markdown",
   "metadata": {},
   "source": [
    "First of all this method uses $O(1)$ memory, as we only allocate space for things like `i` which is purely constant.\n",
    "\n",
    "Time wise however, this search is performed in $O(n)$, because we search through each sequential element once. In the worst case where we don't find our key, we have to look through a total of $n$ things."
   ]
  },
  {
   "cell_type": "markdown",
   "metadata": {},
   "source": [
    "**Can we do better?**\n",
    "No. Or at least not without other information, since we don't know anything about the contents of the array. But why? Let's prove this by contradiction.\n",
    "\n",
    "Suppose I could improve this algorithm, such that it performed in better of $O(n)$ time. Let's say in this algorithm I compared `key` to $k$ different items. Since this algorithm is strictly better than $O(n)$, then $k < n$. If $k < n$, there must exist at least 1 element I didn't compare with. What if that one element I didn't compare with was my key, and the other $k$ elements were not? Then my search would have terminated incorrectly, therefore this improvement cannot exist."
   ]
  },
  {
   "cell_type": "markdown",
   "metadata": {},
   "source": [
    "### Binary Search\n",
    "So instead, let's improve this algorithm anyways. What if we knew our list was sorted?\n",
    "\n",
    "We can then divide the entire list in half, and compare our key with the middle. If it is exactly there, great, but if it's not since the list is sorted we can identify which half of the list it's in. Then within that half, we can repeat the process until we find it."
   ]
  },
  {
   "cell_type": "code",
   "execution_count": 1,
   "metadata": {},
   "outputs": [],
   "source": [
    "def binary_search(items, key):\n",
    "    l = 0\n",
    "    r = len(items) - 1\n",
    "\n",
    "    while l <= r:\n",
    "        mid = (l + r) // 2\n",
    "\n",
    "        if items[mid] == key:\n",
    "            return mid\n",
    "        elif items[mid] > key:\n",
    "            r = mid - 1\n",
    "        else:\n",
    "            l = mid + 1\n",
    "\n",
    "    return None"
   ]
  },
  {
   "cell_type": "markdown",
   "metadata": {},
   "source": [
    "This method still only requires $O(1)$ memory, because we only allocate space for variables like `l`, `r`, or `mid`.\n",
    "\n",
    "However, this function has a time complexity of $O(\\log n)$, which is considerably better than $O(n)$ for large values of $n$. For every iteration of the loop where we don't find the key, we can essentially eliminate half of the list. Thus, this loop will iterate in logarithmic time."
   ]
  },
  {
   "cell_type": "markdown",
   "metadata": {},
   "source": [
    "**But suppose I wanted to implement this recursively**, because I see the recursive structure in reperforming a smaller binary search on the side I divide to."
   ]
  },
  {
   "cell_type": "code",
   "execution_count": 2,
   "metadata": {},
   "outputs": [],
   "source": [
    "def binary_search(items, key, l, r):\n",
    "    if l > r:\n",
    "        return None\n",
    "    \n",
    "    mid = (l + r) // 2\n",
    "\n",
    "    if items[mid] == key:\n",
    "        return mid\n",
    "    elif items[mid] > key:\n",
    "        return binary_search(items, key, l, mid - 1)\n",
    "    else:\n",
    "        return binary_search(items, key, mid + 1, r)"
   ]
  },
  {
   "cell_type": "markdown",
   "metadata": {},
   "source": [
    "Unfortunately, although this has the same runtime, the space complexity of this search has now increased from $O(1)$ to $O(\\log n)$. Each call to a function is stored as a stack frame on our call stack, and by replacing iterations of a while loop with recursive calls, we've essentially populated the call stack with as many frames as there would have been iterations of the while loop."
   ]
  }
 ],
 "metadata": {
  "kernelspec": {
   "display_name": "Python 3",
   "language": "python",
   "name": "python3"
  },
  "language_info": {
   "codemirror_mode": {
    "name": "ipython",
    "version": 3
   },
   "file_extension": ".py",
   "mimetype": "text/x-python",
   "name": "python",
   "nbconvert_exporter": "python",
   "pygments_lexer": "ipython3",
   "version": "3.12.1"
  }
 },
 "nbformat": 4,
 "nbformat_minor": 2
}
