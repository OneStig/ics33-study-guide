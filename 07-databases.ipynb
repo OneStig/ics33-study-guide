{
 "cells": [
  {
   "cell_type": "markdown",
   "metadata": {},
   "source": [
    "# Databases"
   ]
  },
  {
   "cell_type": "markdown",
   "metadata": {},
   "source": [
    "When we want to store data outside of our program, we might use a database to store this information. In this case we're using SQL (structured query language), in this case a database management system called SQLite that utilizes SQL to manipulate databases."
   ]
  },
  {
   "cell_type": "markdown",
   "metadata": {},
   "source": [
    "### Relational databases\n",
    "\n",
    "A relational database allows us to store items that can be related to others in some way.\n",
    "\n",
    "This data is usually structured in the form of tables, think excel spreadsheet with rows and columns."
   ]
  },
  {
   "cell_type": "markdown",
   "metadata": {},
   "source": [
    "**courses**\n",
    "\n",
    "| row | course_number | course_name                          | unit_count |\n",
    "|-----|---------------|--------------------------------------|------------|\n",
    "| 1   | ICS 31        | Introduction to Programming          | 4          |\n",
    "| 2   | ICS 32        | Programming with Software Libraries  | 4          |\n",
    "| 3   | ICS 33        | Intermediate Programming with Python | 4          |"
   ]
  },
  {
   "cell_type": "markdown",
   "metadata": {},
   "source": [
    "Each row of the table is some entry of data, and can essentially correspond to a tuple in Python, where the table defines the types stored in the tuple. It's almost as if the table above corresponds to the following namedtuple (although in this example I used NamedTuple from typing as opposed to namedtuple from collections):"
   ]
  },
  {
   "cell_type": "code",
   "execution_count": 1,
   "metadata": {},
   "outputs": [
    {
     "data": {
      "text/plain": [
       "Course(row=1, course_number='ICS 31', course_name='Introduction to Programming', unit_count=4)"
      ]
     },
     "execution_count": 1,
     "metadata": {},
     "output_type": "execute_result"
    }
   ],
   "source": [
    "from typing import NamedTuple\n",
    "\n",
    "class Course(NamedTuple):\n",
    "    row: int\n",
    "    course_number: str\n",
    "    course_name: str\n",
    "    unit_count: int\n",
    "\n",
    "# e.g.\n",
    "ics_31 = Course(row = 1, course_number = 'ICS 31', course_name = 'Introduction to Programming', unit_count = 4)\n",
    "ics_31"
   ]
  },
  {
   "cell_type": "markdown",
   "metadata": {},
   "source": [
    "### Primary Keys\n",
    "\n",
    "A _primary key_ is a subset of columns that are guaranteed to be unique for different rows. Consider storing a bunch of people in a database. We can't really use their names, because with a lot of people there's almost guaranteed to be two people who share identical names. This is why many places assign people IDs, like a student ID, or taxpayer ID to _uniquely_ identify you.\n",
    "\n",
    "When we use a DBMS like sqlite, we can specify which columns represent the primary key and it will guarantee that:\n",
    "1. No two rows have identical primary keys\n",
    "2. We can associate a primary key to a row to find an entry quickly\n",
    "\n",
    "The mechanism that a DBMS utilizes to guarantee this is quite similar to dictionaries, where are primary key would be the primary key of a row."
   ]
  },
  {
   "cell_type": "markdown",
   "metadata": {},
   "source": [
    "### Relationships\n",
    "\n",
    "Since we can uniquely and quickly identify rows in a table with primary keys, it makes sense that we should be able to relate different elements to another through these primary keys.\n",
    "\n",
    "Relationships have a _cardinality_, which is a limit on how many elements can have relationships with each other. Suppose we have tables $A, B$ (can sort of think of them as mathematical sets).\n",
    "\n",
    "1. **one-to-one** - an element of $A$ can only be related to at most one element in $B$, and vise versa. e.g. (ignoring dual citizenship) one person can be associated to one passport, and vise versa\n",
    "\n",
    "2. **one-to-many** - an element of $A$ can be related to many elements of $B$, but each element of $B$ can only be related to one element in $A$. e.g. a library member can have many books checked out a once, but any checked out book can only have been checked out by a single library member at once.\n",
    "\n",
    "3. **many-to-many** - an element of $A$ can be related to many elements in $B$, and vise versa. e.g. I can \"favorite\" many songs on Spotify, and any song on Spotify can be favorited by many people. (although probably not the best example in terms of databases)\n",
    "\n",
    "Many-to-many is the _most_ flexible, but when considering desgining relationships, we only want to be a flexible as we have to be."
   ]
  },
  {
   "cell_type": "markdown",
   "metadata": {},
   "source": [
    "### Foreign Keys\n",
    "\n",
    "In order to actual implement these relationships, it makes sense to store what's called a _foreign key_, which is essentially the primary key of something you want to reference.\n",
    "\n",
    "Usually with a DBMS we explicitly specify a column to store foreign keys, so it can enforce \"referential integrity\" which means what each row refers to should actually exist.\n",
    "\n",
    "Since columns store scalar values, many-to-many relationships usually need to be implemented with some intermediary table that contains the foreign keys of related rows."
   ]
  },
  {
   "cell_type": "markdown",
   "metadata": {},
   "source": [
    "### SQL and SQLite\n",
    "\n",
    "How do we apply this to actually managing a SQL db in python."
   ]
  },
  {
   "cell_type": "code",
   "execution_count": 2,
   "metadata": {},
   "outputs": [
    {
     "data": {
      "text/plain": [
       "sqlite3.Connection"
      ]
     },
     "execution_count": 2,
     "metadata": {},
     "output_type": "execute_result"
    }
   ],
   "source": [
    "import sqlite3\n",
    "connection = sqlite3.connect(':memory:')\n",
    "type(connection)"
   ]
  },
  {
   "cell_type": "markdown",
   "metadata": {},
   "source": [
    "This syntax allows us to establish a 'connection' with a database. In this case `':memory:'` denotes an in-memory database, but we could have instead passed in a filesystem path. This connection is our portal to execute SQL queries against our databases."
   ]
  },
  {
   "cell_type": "code",
   "execution_count": 3,
   "metadata": {},
   "outputs": [
    {
     "data": {
      "text/plain": [
       "<sqlite3.Cursor at 0x1079bdac0>"
      ]
     },
     "execution_count": 3,
     "metadata": {},
     "output_type": "execute_result"
    }
   ],
   "source": [
    "connection.execute(\n",
    "    '''\n",
    "    CREATE TABLE person(\n",
    "        person_id INTEGER PRIMARY KEY,\n",
    "        name TEXT,\n",
    "        age INTEGER\n",
    "    ) STRICT;\n",
    "    '''\n",
    ")"
   ]
  },
  {
   "cell_type": "markdown",
   "metadata": {},
   "source": [
    "Calling this `execute` method is how we pass SQL statements as a string for the sqlite to interpret and operate on our database. A few things to note about this specific query:\n",
    "- **SQL keywords** or the tokens in caps are keywords that have some meaning in the SQL language\n",
    "- Whitespaces and indentation don't matter which is why this query is valid despite being a weirdly formatted string\n",
    "- Each statement is concluded with a semi colon\n",
    "\n",
    "This syntax **creates** a **table** called **person**, which has the listed columns, with the types specified next to it, as well as `PRIMARY KEY` indicating that we want `person_id` to be a primary key.\n",
    "\n",
    "Also the `STRICT` keyword means we will strictly enforce the types stored in these columns.\n",
    "\n",
    "Also also, notice that this execute returned a `<sqlite3.Cursor>` object. If our statement had queried for data, it would be stored in said cursor, but creating a table doesn't so we don't really need to do anything with it."
   ]
  },
  {
   "cell_type": "code",
   "execution_count": 4,
   "metadata": {},
   "outputs": [
    {
     "name": "stdout",
     "output_type": "stream",
     "text": [
      "('person',)\n",
      "None\n"
     ]
    }
   ],
   "source": [
    "cursor = connection.execute('SELECT name FROM sqlite_schema;')\n",
    "print(cursor.fetchone())\n",
    "print(cursor.fetchone())\n",
    "cursor.close()"
   ]
  },
  {
   "cell_type": "markdown",
   "metadata": {},
   "source": [
    "SQLite retains certain metadata about how our db is structured, which we can also query for from the `sqlite_schema` table. What we've essentially done is `SELECT`ed all the rows, only asking for the `name` from each row, `FROM` the table `sqlite_schema`. Which only returned `('person',)`, since that's the only table we have.\n",
    "\n",
    "The method `cursor.fetchone()` allows us to get these results one at a time, and it returns `NONE` once there are none left. Then we make sure to close the cursor when done."
   ]
  },
  {
   "cell_type": "markdown",
   "metadata": {},
   "source": [
    "### Insertion\n",
    "\n",
    "Now that we've created a table, we presumably want to insert data to populated it with values."
   ]
  },
  {
   "cell_type": "code",
   "execution_count": 5,
   "metadata": {},
   "outputs": [
    {
     "data": {
      "text/plain": [
       "<sqlite3.Cursor at 0x107a01d40>"
      ]
     },
     "execution_count": 5,
     "metadata": {},
     "output_type": "execute_result"
    }
   ],
   "source": [
    "connection.execute(\n",
    "    '''\n",
    "    INSERT INTO person (person_id, name, age)\n",
    "    VALUES (1, 'Boo', 13);\n",
    "    '''\n",
    ")"
   ]
  },
  {
   "cell_type": "markdown",
   "metadata": {},
   "source": [
    "`INSERT INTO x` indicates we want to insert into table `x`, and we intend to specify the columns in the following tuple `(person_id, name, age)`\n",
    "Then the keyword `VALUES` indicates the corresponding values we want to insert into those columns."
   ]
  },
  {
   "cell_type": "code",
   "execution_count": 6,
   "metadata": {},
   "outputs": [
    {
     "ename": "IntegrityError",
     "evalue": "UNIQUE constraint failed: person.person_id",
     "output_type": "error",
     "traceback": [
      "\u001b[0;31m---------------------------------------------------------------------------\u001b[0m",
      "\u001b[0;31mIntegrityError\u001b[0m                            Traceback (most recent call last)",
      "Cell \u001b[0;32mIn[6], line 1\u001b[0m\n\u001b[0;32m----> 1\u001b[0m \u001b[43mconnection\u001b[49m\u001b[38;5;241;43m.\u001b[39;49m\u001b[43mexecute\u001b[49m\u001b[43m(\u001b[49m\n\u001b[1;32m      2\u001b[0m \u001b[38;5;250;43m    \u001b[39;49m\u001b[38;5;124;43;03m'''\u001b[39;49;00m\n\u001b[1;32m      3\u001b[0m \u001b[38;5;124;43;03m    INSERT INTO person (person_id, name, age)\u001b[39;49;00m\n\u001b[1;32m      4\u001b[0m \u001b[38;5;124;43;03m    VALUES (1, 'Alex', 47);\u001b[39;49;00m\n\u001b[1;32m      5\u001b[0m \u001b[38;5;124;43;03m    '''\u001b[39;49;00m\n\u001b[1;32m      6\u001b[0m \u001b[43m)\u001b[49m\n",
      "\u001b[0;31mIntegrityError\u001b[0m: UNIQUE constraint failed: person.person_id"
     ]
    }
   ],
   "source": [
    "connection.execute(\n",
    "    '''\n",
    "    INSERT INTO person (person_id, name, age)\n",
    "    VALUES (1, 'Alex', 47);\n",
    "    '''\n",
    ")"
   ]
  },
  {
   "cell_type": "markdown",
   "metadata": {},
   "source": [
    "Notice how the above error fails with message \"UNIQUE constraint failed\", because we had already inserted a row with a `person_id` of 1. This is SQLite at work ensuring the integrity of our database."
   ]
  },
  {
   "cell_type": "code",
   "execution_count": 10,
   "metadata": {},
   "outputs": [
    {
     "data": {
      "text/plain": [
       "<sqlite3.Cursor at 0x10794a840>"
      ]
     },
     "execution_count": 10,
     "metadata": {},
     "output_type": "execute_result"
    }
   ],
   "source": [
    "connection.execute(\n",
    "    '''\n",
    "    INSERT INTO person (person_id, name, age)\n",
    "    VALUES (2, 'Alex', 47);\n",
    "    '''\n",
    ")"
   ]
  },
  {
   "cell_type": "markdown",
   "metadata": {},
   "source": [
    "### Filtering\n",
    "\n",
    "When we use `SELECT` to pull rows from a table, it is quite likely that we don't want to return every row because often we are looking for something specific:"
   ]
  },
  {
   "cell_type": "code",
   "execution_count": 11,
   "metadata": {},
   "outputs": [
    {
     "name": "stdout",
     "output_type": "stream",
     "text": [
      "('Boo',)\n"
     ]
    }
   ],
   "source": [
    "cursor = connection.execute(\n",
    "    '''\n",
    "    SELECT name FROM person\n",
    "    WHERE age < 40;\n",
    "    '''\n",
    ")\n",
    "print(*cursor.fetchall())\n",
    "cursor.close()"
   ]
  },
  {
   "cell_type": "markdown",
   "metadata": {},
   "source": [
    "Generally the same syntax as before, however we used the `WHERE` keyword to specify a boolean expression that filtered out results we didn't want."
   ]
  },
  {
   "cell_type": "code",
   "execution_count": 12,
   "metadata": {},
   "outputs": [
    {
     "name": "stdout",
     "output_type": "stream",
     "text": [
      "('Alex', 47)\n"
     ]
    }
   ],
   "source": [
    "cursor = connection.execute(\n",
    "    '''\n",
    "    SELECT name, age FROM person\n",
    "    WHERE length(name) = 4 AND person_id BETWEEN 1 AND 10;\n",
    "    '''\n",
    ")\n",
    "print(*cursor.fetchall())\n",
    "cursor.close()"
   ]
  },
  {
   "cell_type": "markdown",
   "metadata": {},
   "source": [
    "We can also use truthiness as a boolean, where non-zero integers are true, although it is probably best to avoid this:"
   ]
  },
  {
   "cell_type": "code",
   "execution_count": 13,
   "metadata": {},
   "outputs": [
    {
     "name": "stdout",
     "output_type": "stream",
     "text": [
      "('Boo', 13) ('Alex', 47)\n"
     ]
    }
   ],
   "source": [
    "cursor = connection.execute(\n",
    "    '''\n",
    "    SELECT name, age FROM person\n",
    "    WHERE age;\n",
    "    '''\n",
    ")\n",
    "print(*cursor.fetchall())\n",
    "cursor.close()"
   ]
  },
  {
   "cell_type": "markdown",
   "metadata": {},
   "source": [
    "### Ordering\n",
    "\n",
    "On top of filtering, we can also control the order that the `SELECT` returns data with `ORDER BY`. Note, if we do both, the `WHERE` must come prior to the `SELECT`:"
   ]
  },
  {
   "cell_type": "code",
   "execution_count": 14,
   "metadata": {},
   "outputs": [
    {
     "name": "stdout",
     "output_type": "stream",
     "text": [
      "('Alex', 47) ('Boo', 13)\n"
     ]
    }
   ],
   "source": [
    "cursor = connection.execute(\n",
    "    '''\n",
    "    SELECT name, age FROM person\n",
    "    ORDER BY age DESC;\n",
    "    ''' # DESC for descending, ASC for ascending\n",
    ")\n",
    "print(*cursor.fetchall())\n",
    "cursor.close()"
   ]
  },
  {
   "cell_type": "markdown",
   "metadata": {},
   "source": [
    "### Modifying data\n",
    "\n",
    "When we're managing a database, it also stands to reason that we'd want to modify existing rows. This can be done with `UPDATE` that requires us to specify `SET`: which is what we want to set, and `WHERE`: which is where we want to set these changes"
   ]
  },
  {
   "cell_type": "code",
   "execution_count": 15,
   "metadata": {},
   "outputs": [
    {
     "name": "stdout",
     "output_type": "stream",
     "text": [
      "('Boo', 13) ('Alex', 48)\n"
     ]
    }
   ],
   "source": [
    "connection.execute(\n",
    "    '''\n",
    "    UPDATE person\n",
    "    SET age = age + 1\n",
    "    WHERE person_id = 2\n",
    "    '''\n",
    ")\n",
    "\n",
    "cursor = connection.execute(\n",
    "    '''\n",
    "    SELECT name, age FROM person\n",
    "    '''\n",
    ")\n",
    "print(*cursor.fetchall())\n",
    "cursor.close()"
   ]
  },
  {
   "cell_type": "markdown",
   "metadata": {},
   "source": [
    "We can also update multiple values as such:"
   ]
  },
  {
   "cell_type": "code",
   "execution_count": 16,
   "metadata": {},
   "outputs": [
    {
     "name": "stdout",
     "output_type": "stream",
     "text": [
      "('Boo', 13) ('Bob', 25)\n"
     ]
    }
   ],
   "source": [
    "connection.execute(\n",
    "    '''\n",
    "    UPDATE person\n",
    "    SET age = 25, name = 'Bob'\n",
    "    WHERE person_id = 2;\n",
    "    '''\n",
    ")\n",
    "\n",
    "cursor = connection.execute(\n",
    "    '''\n",
    "    SELECT name, age FROM person\n",
    "    '''\n",
    ")\n",
    "print(*cursor.fetchall())\n",
    "cursor.close()"
   ]
  },
  {
   "cell_type": "markdown",
   "metadata": {},
   "source": [
    "If we don't specify a `WHERE`, it will simply apply `SET` to every row in the table."
   ]
  },
  {
   "cell_type": "markdown",
   "metadata": {},
   "source": [
    "### Deleting things\n",
    "We can delete rows from tables, as well as tables entirely"
   ]
  },
  {
   "cell_type": "code",
   "execution_count": 17,
   "metadata": {},
   "outputs": [
    {
     "data": {
      "text/plain": [
       "<sqlite3.Cursor at 0x107949ec0>"
      ]
     },
     "execution_count": 17,
     "metadata": {},
     "output_type": "execute_result"
    }
   ],
   "source": [
    "connection.execute(\n",
    "    '''\n",
    "    DELETE FROM person\n",
    "    WHERE person_id = 2;\n",
    "    '''\n",
    ")"
   ]
  },
  {
   "cell_type": "markdown",
   "metadata": {},
   "source": [
    "Or to drop an entire table\n",
    "\n",
    "```SQL\n",
    "DROP TABLE person;\n",
    "```"
   ]
  },
  {
   "cell_type": "markdown",
   "metadata": {},
   "source": [
    "From this point on (just for databases) I'll write examples in markdown instead of executing actual Python just for notes, but these are worth experimenting with."
   ]
  },
  {
   "cell_type": "markdown",
   "metadata": {},
   "source": [
    "### NULL\n",
    "NULL is a value that can be stored that represents the lack of a value. When we fetch data, it translates back to Python as `None` since that seems to make the most sense.\n",
    "\n",
    "Suppose we have colums a, b, c, all integers and we add the following entry:\n",
    "```SQL\n",
    "INSERT into some_table (a, b)\n",
    "VALUES (1, 2);\n",
    "```\n",
    "\n",
    "Fetching this entry form the table would yield the tuple `(1, 2, None)`, since a NULL was stored where we didn't specify a value in c.\n",
    "\n",
    "We can also use NULL with WHERE to find empty rows in columns:\n",
    "```SQL\n",
    "WHERE some_column IS NULL;\n",
    "```\n",
    "Notice how we can't do `some_column = NULL`.\n",
    "\n",
    "When we construct a table, we can also use the keyword `NOT NULL` (similar to `PRIMARY KEY`) to specify that column cannot contain NULL values."
   ]
  },
  {
   "cell_type": "markdown",
   "metadata": {},
   "source": [
    "### Relationships\n",
    "\n",
    "How do we actually apply theoretically building relationships into SQL queries:"
   ]
  },
  {
   "cell_type": "markdown",
   "metadata": {},
   "source": [
    "```SQL\n",
    "CREATE TABLE othertable(\n",
    "    other_id INTEGER NOT NULL PRIMARY KEY\n",
    ") STRICT;\n",
    "\n",
    "CREATE TABLE mytable(\n",
    "    id INTEGER NOT NULL PRIMARY KEY,\n",
    "    name TEXT,\n",
    "    related_thing INTEGER NOT NULL,\n",
    "    FOREIGN KEY (related_thing) REFERENCES othertable(other_id)\n",
    ") STRICT;\n",
    "```"
   ]
  },
  {
   "cell_type": "markdown",
   "metadata": {},
   "source": [
    "Using this syntax we can specify a certain column as a foreign key, which relates to some other row. We can see that this is sort of a one way relationship, so we can build one-to-one and one-to-many quite easily, however for many-to-many we'd likely have to create an intermediary table. (the example in the notes is better than anything I can come up with)"
   ]
  },
  {
   "cell_type": "markdown",
   "metadata": {},
   "source": [
    "### Joins\n",
    "\n",
    "Once we establish foreign key relationships, we can use joins to combine the rows of tables. The most common type is the \"inner join\". Once again, I would say reference the notes because it's explained much thoroughly in a way that I don't think can be summarized adequately."
   ]
  }
 ],
 "metadata": {
  "kernelspec": {
   "display_name": "Python 3",
   "language": "python",
   "name": "python3"
  },
  "language_info": {
   "codemirror_mode": {
    "name": "ipython",
    "version": 3
   },
   "file_extension": ".py",
   "mimetype": "text/x-python",
   "name": "python",
   "nbconvert_exporter": "python",
   "pygments_lexer": "ipython3",
   "version": "3.12.1"
  }
 },
 "nbformat": 4,
 "nbformat_minor": 2
}
