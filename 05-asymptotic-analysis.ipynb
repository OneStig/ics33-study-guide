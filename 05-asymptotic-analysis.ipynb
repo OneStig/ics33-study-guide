{
 "cells": [
  {
   "cell_type": "markdown",
   "metadata": {},
   "source": [
    "# Asymptotic Analysis"
   ]
  },
  {
   "cell_type": "markdown",
   "metadata": {},
   "source": [
    "### Why\n",
    "\n",
    "Part of writing code, is we want to write code that is efficient. Two important metrics we care about are space (memory usage), and time. We could analyze every single line of code down to it's very last detail, accounting for how fast our processor may be and try to precisely estimate how much time something will take, however we won't always have access to all this information (such as what computer our code will run on, or what our input sizes look like). Thus, we use asymptotic analysis to measure the _complexity_ of code, which allows us to compare different algorithms assuming our input size can get really large."
   ]
  },
  {
   "cell_type": "markdown",
   "metadata": {},
   "source": [
    "### Big O notation\n",
    "By definition, $f(n)$ is $O(g(n))$ _if and only if_ there are positive constants $c$ and $n_0$ such that $f(n) \\le cg(n) \\forall n \\ge n_0$. Which is just simply saying, ignoring constant factors, as $n$ gets really big, $f(n)$ will always be less than $g(n)$. This makes sense, because when we can't identify small things that affect constant factor like how long it takes to perform an addition operation, we can more about the big picture, as in how do the growth rate of different functions compare as $n$ gets really large."
   ]
  },
  {
   "cell_type": "markdown",
   "metadata": {},
   "source": [
    "$\\textbf{Example: } \\text{Show that the function } f(n) = 3n + 4 \\text{ is } O(n)$\n",
    "\n",
    "$Proof.$\n",
    "\n",
    "\\begin{align}\n",
    "f(n) &\\le cg(n) && \\text{for all } n \\ge n_0 && \\text{(By Big-O definition)} \\\\\n",
    "3n + 4 &\\le cn && \\text{for all } n \\ge n_0 \\\\\n",
    "&\\text{Let } c = 4, n_0 = 4 && \\text{(Select constants)} \\\\\n",
    "3n+4 &\\le 4n && \\text{for all } n \\ge 4 \\\\\n",
    "4 &\\le n && \\text{for all } n \\ge 4 && \\blacksquare\n",
    "\\end{align}\n"
   ]
  },
  {
   "cell_type": "markdown",
   "metadata": {},
   "source": [
    "It's worth noting that a function $f(n) = 3n + 4$ is $O(n)$, but also $O(n^2)$, $O(n^n)$, and $O(n \\log{} n)$, it's just that $O(n)$ is what we consider the \"closest-fit\"."
   ]
  },
  {
   "cell_type": "markdown",
   "metadata": {},
   "source": [
    "We also don't write the bases of logarithms in Big-O, because the difference between bases is constant:\n",
    "$$\n",
    "\\frac{\\log_a n}{\\log_b n} = \\log_a b\n",
    "$$"
   ]
  },
  {
   "cell_type": "markdown",
   "metadata": {},
   "source": [
    "### Examples in Code/Practice Analysis"
   ]
  },
  {
   "cell_type": "code",
   "execution_count": 10,
   "metadata": {},
   "outputs": [
    {
     "name": "stdout",
     "output_type": "stream",
     "text": [
      "1 2 3 4 5 2 3 4 5 6 3 4 5 6 7 4 5 6 7 8 5 6 7 8 9 "
     ]
    }
   ],
   "source": [
    "def add_nums(nums):\n",
    "    for num in nums:\n",
    "        for x in range(5):\n",
    "            print(num + x, end=' ')\n",
    "\n",
    "add_nums([1, 2, 3, 4, 5])"
   ]
  },
  {
   "cell_type": "markdown",
   "metadata": {},
   "source": [
    "`add_nums`\n",
    "\n",
    "**Time**: $O(n)$\n",
    "Although there are two for loops, the inner loop runs for a constantly defined amount of iterations, and $5n$ has a closest-fit of $O(5n)$.\n",
    "\n",
    "**Space**: $O(1)$\n",
    "$num$ and $x$ both require constant amounts of space, and even though we are working with a list, we don't use any auxiliary memory within the function since the space for the list was allocated outside of the scope of `add_nums` itself."
   ]
  },
  {
   "cell_type": "code",
   "execution_count": 7,
   "metadata": {},
   "outputs": [
    {
     "name": "stdout",
     "output_type": "stream",
     "text": [
      "1 2 3 4 5\n",
      "2 4 6 8 10\n",
      "3 6 9 12 15\n",
      "4 8 12 16 20\n",
      "5 10 15 20 25\n"
     ]
    }
   ],
   "source": [
    "def multiplication_table(n):\n",
    "    for i in range(1, n + 1):\n",
    "        print(*[i * j for j in range(1, n + 1)])\n",
    "\n",
    "multiplication_table(5)"
   ]
  },
  {
   "cell_type": "markdown",
   "metadata": {},
   "source": [
    "`multiplication_table`\n",
    "\n",
    "**Time**: $O(n^2)$\n",
    "\n",
    "Although it seems as thought there are $n$ prints occuring due to the for loop, there is a second for loop within the list comprehension that also runs for $n$ time, so this is actually $n \\times n$, or $O(n^2)$.\n",
    "\n",
    "**Space**: $O(n)$\n",
    "\n",
    "Even though this function could have been implemented with $O(1)$ space, it still uses $O(n)$, because each call of the list comprehension allocates $O(n)$ memory to generate the list, before it is unpacked and printed. Since we don't store the comprehension anywhere, for each pass of the loop it is created and then discarded after printing.\n",
    "\n",
    "It's worth noting that this function could have been implemented by simply printing directly instead of using a comprehension, which would still have been $O(n^2)$ time, but $O(1)$ space instead."
   ]
  },
  {
   "cell_type": "code",
   "execution_count": 5,
   "metadata": {},
   "outputs": [
    {
     "name": "stdout",
     "output_type": "stream",
     "text": [
      "2 3 5 7 11 13 17 19 23 29 31 37 41 43 47 53 59 61 67 71 73 79 83 89 97 "
     ]
    }
   ],
   "source": [
    "def sieve(num):\n",
    "    prime = [True for i in range(num+1)]\n",
    "    p = 2\n",
    "    while (p * p <= num):\n",
    "        if (prime[p] == True):\n",
    "            for i in range(p * p, num+1, p):\n",
    "                prime[i] = False\n",
    "        p += 1\n",
    " \n",
    "    for p in range(2, num+1):\n",
    "        if prime[p]:\n",
    "            print(p, end=' ')\n",
    "\n",
    "sieve(100)"
   ]
  },
  {
   "cell_type": "markdown",
   "metadata": {},
   "source": [
    "`sieve`\n",
    "\n",
    "**Time**: $O(n \\log \\log {n})$\n",
    "\n",
    "Constructing `prime` with a comprehension is $O(n)$.\n",
    "Although the outer while loop seems to run in $\\sqrt{n}$ time, we need to consider the inner for loop. This loop marks multiples of $p$ as not prime from $p^2$ to $n$, so for each prime we encounter the operation is $O(\\frac{n}{p})$. The notable thing here is we don't actually process all $\\sqrt{n}$ numbers, since each number is marked exacctly once by its smallest prime factor.\n",
    "\n",
    "We can approximate the work done for each prime $p$ by this harmonic series to compute the total complexity:\n",
    "$$O\\left(n\\left(\\frac{1}{2} + \\frac{1}{3} + \\frac{1}{5} + \\frac{1}{7} + \\frac{1}{11} + \\ldots \\right)\\right)$$\n",
    "\n",
    "This series based on how primes are distributed is approximately $O(n \\log \\log n)$\n",
    "\n",
    "Then finally going through $n$ numbers and checking if they are prime and printing if it is is just $O(n)$.\n",
    "\n",
    "**Space**: $O(n)$\n",
    "\n",
    "The only auxiliary space we use in this code is the list `prime` which uses a linear amount of space relative to the input of `num`"
   ]
  },
  {
   "cell_type": "markdown",
   "metadata": {},
   "source": []
  }
 ],
 "metadata": {
  "kernelspec": {
   "display_name": "Python 3",
   "language": "python",
   "name": "python3"
  },
  "language_info": {
   "codemirror_mode": {
    "name": "ipython",
    "version": 3
   },
   "file_extension": ".py",
   "mimetype": "text/x-python",
   "name": "python",
   "nbconvert_exporter": "python",
   "pygments_lexer": "ipython3",
   "version": "3.12.1"
  }
 },
 "nbformat": 4,
 "nbformat_minor": 2
}
