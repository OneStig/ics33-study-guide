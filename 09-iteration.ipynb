{
 "cells": [
  {
   "cell_type": "markdown",
   "metadata": {},
   "source": [
    "# Iteration"
   ]
  },
  {
   "cell_type": "markdown",
   "metadata": {},
   "source": [
    "Iteration is generally goverened by two types of objects. _Iterables_ and _Iterators_. _Iterables_ is a type of object that follows a certain protocol which allows it to be iterated over, for example using a for loop to traverse its contents. An _iterator_ is a type of object that manages the process of producing certain values one at a time."
   ]
  },
  {
   "cell_type": "code",
   "execution_count": 1,
   "metadata": {},
   "outputs": [
    {
     "name": "stdout",
     "output_type": "stream",
     "text": [
      "1 2 3 a b c "
     ]
    }
   ],
   "source": [
    "for x in [1, 2, 3, 'a', 'b', 'c']:\n",
    "    print(x, end=' ') # lists are iterable"
   ]
  },
  {
   "cell_type": "markdown",
   "metadata": {},
   "source": [
    "We can look at the underlying mechanism by which loops might perform iteration. We can create an iterator from our iterable, and ask it to produce sequential values by calling `next`"
   ]
  },
  {
   "cell_type": "code",
   "execution_count": 2,
   "metadata": {},
   "outputs": [],
   "source": [
    "some_numbers = [1, 2, 3]\n",
    "it = iter(some_numbers)"
   ]
  },
  {
   "cell_type": "code",
   "execution_count": 3,
   "metadata": {},
   "outputs": [
    {
     "data": {
      "text/plain": [
       "1"
      ]
     },
     "execution_count": 3,
     "metadata": {},
     "output_type": "execute_result"
    }
   ],
   "source": [
    "next(it)"
   ]
  },
  {
   "cell_type": "code",
   "execution_count": 4,
   "metadata": {},
   "outputs": [
    {
     "data": {
      "text/plain": [
       "2"
      ]
     },
     "execution_count": 4,
     "metadata": {},
     "output_type": "execute_result"
    }
   ],
   "source": [
    "next(it)"
   ]
  },
  {
   "cell_type": "code",
   "execution_count": 5,
   "metadata": {},
   "outputs": [
    {
     "data": {
      "text/plain": [
       "3"
      ]
     },
     "execution_count": 5,
     "metadata": {},
     "output_type": "execute_result"
    }
   ],
   "source": [
    "next(it)"
   ]
  },
  {
   "cell_type": "code",
   "execution_count": 6,
   "metadata": {},
   "outputs": [
    {
     "ename": "StopIteration",
     "evalue": "",
     "output_type": "error",
     "traceback": [
      "\u001b[0;31m---------------------------------------------------------------------------\u001b[0m",
      "\u001b[0;31mStopIteration\u001b[0m                             Traceback (most recent call last)",
      "Cell \u001b[0;32mIn[6], line 1\u001b[0m\n\u001b[0;32m----> 1\u001b[0m \u001b[38;5;28;43mnext\u001b[39;49m\u001b[43m(\u001b[49m\u001b[43mit\u001b[49m\u001b[43m)\u001b[49m\n",
      "\u001b[0;31mStopIteration\u001b[0m: "
     ]
    }
   ],
   "source": [
    "next(it)"
   ]
  },
  {
   "cell_type": "markdown",
   "metadata": {},
   "source": [
    "Once an iterator fails to yield further values to us, it raises `StopIteration` and that's how we know it has completed."
   ]
  },
  {
   "cell_type": "markdown",
   "metadata": {},
   "source": [
    "### Building an Iterable\n",
    "\n",
    "Now suppose we want to construct an object that is iterable, or implements the _iterable protocol_. There are fundamentally two required methods:\n",
    "\n",
    "- `__next__(self)` - returns next element from an iterator, or raises `StopIteration`\n",
    "\n",
    "- `__iter__(self)` - constructs and returns an iterator, to iterate over itself\n",
    "\n",
    "An **iterable** must simply implement the latter that returns an iterator.\n",
    "An **iterator** implements _both_ methods. Even though the iterator itself is already assumed to implement next, if we try to use something like a for loop, python attempts to call `iter()` on that object.\n",
    "\n",
    "(Alternatively implementing `__len__` and `__getitem__` also makes an object iterable)\n",
    "\n",
    "We can observe how lists generally follow this behavior:"
   ]
  },
  {
   "cell_type": "code",
   "execution_count": 13,
   "metadata": {},
   "outputs": [
    {
     "data": {
      "text/plain": [
       "1"
      ]
     },
     "execution_count": 13,
     "metadata": {},
     "output_type": "execute_result"
    }
   ],
   "source": [
    "x = some_numbers.__iter__()\n",
    "x.__next__()"
   ]
  },
  {
   "cell_type": "markdown",
   "metadata": {},
   "source": [
    "A good example given in the notes is building something similar to the builtin `range()` method in Python. Here is a simplified version."
   ]
  },
  {
   "cell_type": "code",
   "execution_count": 1,
   "metadata": {},
   "outputs": [],
   "source": [
    "class FauxRangeIter:\n",
    "    def __init__(self, faux_range):\n",
    "        self._faux_range = faux_range\n",
    "        self._cur = faux_range.start\n",
    "\n",
    "    def __iter__(self):\n",
    "        return self\n",
    "\n",
    "    def __next__(self):\n",
    "        if self._cur >= self._faux_range.stop:\n",
    "            raise StopIteration\n",
    "        else:\n",
    "            temp = self._cur\n",
    "            self._cur += self._faux_range.step\n",
    "            return temp\n",
    "\n",
    "class FauxRange:\n",
    "    def __init__(self, start, stop = None, step = None):\n",
    "        if stop is None:\n",
    "            stop = start\n",
    "            start = 0\n",
    "        \n",
    "        if step is None:\n",
    "            step = 1\n",
    "\n",
    "        self.start = start\n",
    "        self.stop = stop\n",
    "        self.step = step\n",
    "    \n",
    "    def __iter__(self):\n",
    "        return FauxRangeIter(self)"
   ]
  },
  {
   "cell_type": "markdown",
   "metadata": {},
   "source": [
    "For the most part, this will behave similarly to an actual `range`, although it isn't a generator. When a for loop iterates over a `FauxRange`, it gets an iterator by calling `__iter__`, then sequentially calls next until it hits a StopIteration"
   ]
  },
  {
   "cell_type": "code",
   "execution_count": 2,
   "metadata": {},
   "outputs": [
    {
     "name": "stdout",
     "output_type": "stream",
     "text": [
      "3 5 7 9 "
     ]
    }
   ],
   "source": [
    "for x in FauxRange(3, 10, 2):\n",
    "    print(x, end=' ')"
   ]
  },
  {
   "cell_type": "markdown",
   "metadata": {},
   "source": [
    "It's also worth noting that pretty much all of the methods in the two classes above run in $O(1)$ time, because if we lazily produce values as we need them on calls of `__next__`, we can be considerably more efficient than were we to figure out all of the values first and store them somewhere."
   ]
  }
 ],
 "metadata": {
  "kernelspec": {
   "display_name": "Python 3",
   "language": "python",
   "name": "python3"
  },
  "language_info": {
   "codemirror_mode": {
    "name": "ipython",
    "version": 3
   },
   "file_extension": ".py",
   "mimetype": "text/x-python",
   "name": "python",
   "nbconvert_exporter": "python",
   "pygments_lexer": "ipython3",
   "version": "3.12.1"
  }
 },
 "nbformat": 4,
 "nbformat_minor": 2
}
