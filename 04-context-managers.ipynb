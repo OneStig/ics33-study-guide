{
 "cells": [
  {
   "cell_type": "markdown",
   "metadata": {},
   "source": [
    "# 5. Context Managers"
   ]
  },
  {
   "cell_type": "markdown",
   "metadata": {},
   "source": [
    "Directly from the notes because it's important: A very common software requirement is one you might call automatic wrap-up, which is to say that sometimes our programs perform operations where certain things need to be finalized or unwound when the operations have finished, whether the operations themselves succeeded or failed."
   ]
  },
  {
   "cell_type": "markdown",
   "metadata": {},
   "source": [
    "Suppose we wanted to read from a file. We can use a `try` to try and open the file, and `finally` to close it if it ever opened successfully. However, for more complicated problems this process can get tricky so we can instead use _context managers_ using a `with` statement."
   ]
  },
  {
   "cell_type": "markdown",
   "metadata": {},
   "source": [
    "```Python\n",
    "with open(some_file_path, 'r', encoding='utf-8') as some_file:\n",
    "    do_stuff(some_file)\n",
    "```\n",
    "Consider this example. The open function returns a file object stored into `some_file`, and this entire operation is encapsulated within the `with` statement.\n",
    "\n",
    "As it turns out, file objects are _context managers_ so it has predefined some operations to perform when we exit this context, notably whether or not we should close the file based on whether opening it succeeded in the first place."
   ]
  },
  {
   "cell_type": "markdown",
   "metadata": {},
   "source": [
    "A common example is when we are unit testing and expect some code to fail in a particular way:\n",
    "```Python\n",
    "with self.assertRaises(SomeError):\n",
    "    thing_that_triggers_some_error()\n",
    "```\n",
    "Unlike the file opening example we dont use `as` because we don't actually care about doing anything with the context manager in the body. "
   ]
  },
  {
   "cell_type": "markdown",
   "metadata": {},
   "source": [
    "### The `contextlib` module\n",
    "This standard library module basically contains some context managers that might be useful to us, for example capturing standard input (particularly useful for testing):"
   ]
  },
  {
   "cell_type": "code",
   "execution_count": 6,
   "metadata": {},
   "outputs": [],
   "source": [
    "import contextlib\n",
    "import io\n",
    "with contextlib.redirect_stdout(io.StringIO()) as output:\n",
    "    print('hey there')\n",
    "    # this print is captured by the context manager so doesn't print anything"
   ]
  },
  {
   "cell_type": "code",
   "execution_count": 7,
   "metadata": {},
   "outputs": [
    {
     "data": {
      "text/plain": [
       "'hey there\\n'"
      ]
     },
     "execution_count": 7,
     "metadata": {},
     "output_type": "execute_result"
    }
   ],
   "source": [
    "# unless we ask for it\n",
    "output.getvalue()"
   ]
  },
  {
   "cell_type": "markdown",
   "metadata": {},
   "source": [
    "### Building context managers\n",
    "Any object can be a context manager _if and only if_ it satisfies certain properties.\n",
    "We can call these properties the context manager protocol, and anything that supports these operations can function as as context manager:\n",
    "1. `__enter__(self)` - is called on the object as the `with` statement is entered. The return value of this function is stored into a variable if we use `as something`.\n",
    "2. `__exit__(self, exc_type, exc_value, exc_traceback)` - is the opposite of enter. When the context manager exits, it passes in certain values to these parameters. If the `with` statement exits with no issues, all of these will get passed `None` as an argument, otherwise they will contain the type, value, and traceback of the exception respectively."
   ]
  },
  {
   "cell_type": "code",
   "execution_count": 11,
   "metadata": {},
   "outputs": [],
   "source": [
    "class SomeContextManager:\n",
    "    def __init__(self, value):\n",
    "        self.value = value\n",
    "        print('constructed')\n",
    "    \n",
    "    def __enter__(self):\n",
    "        print('entering')\n",
    "        return self\n",
    "    \n",
    "    def __exit__(self, exc_type, exc_value, exc_traceback):\n",
    "        if exc_type == None:\n",
    "            print('successful exit')\n",
    "        else:\n",
    "            print(f'unsuccessful exit: {exc_type}')\n",
    "            return True\n"
   ]
  },
  {
   "cell_type": "code",
   "execution_count": 12,
   "metadata": {},
   "outputs": [
    {
     "name": "stdout",
     "output_type": "stream",
     "text": [
      "constructed\n",
      "entering\n",
      "hello world\n",
      "successful exit\n"
     ]
    }
   ],
   "source": [
    "with SomeContextManager('hello world') as x:\n",
    "    print(x.value)"
   ]
  },
  {
   "cell_type": "code",
   "execution_count": 13,
   "metadata": {},
   "outputs": [
    {
     "name": "stdout",
     "output_type": "stream",
     "text": [
      "constructed\n",
      "entering\n",
      "unsuccessful exit: <class 'Exception'>\n"
     ]
    }
   ],
   "source": [
    "with SomeContextManager('goodbye world') as x:\n",
    "    raise Exception"
   ]
  },
  {
   "cell_type": "markdown",
   "metadata": {},
   "source": [
    "The reason an error does not come back in the second example, is because `__exit__` returned `True`, which basically tells the context manager \"I have handled the issue so suppress it\""
   ]
  }
 ],
 "metadata": {
  "kernelspec": {
   "display_name": "Python 3",
   "language": "python",
   "name": "python3"
  },
  "language_info": {
   "codemirror_mode": {
    "name": "ipython",
    "version": 3
   },
   "file_extension": ".py",
   "mimetype": "text/x-python",
   "name": "python",
   "nbconvert_exporter": "python",
   "pygments_lexer": "ipython3",
   "version": "3.12.1"
  }
 },
 "nbformat": 4,
 "nbformat_minor": 2
}
