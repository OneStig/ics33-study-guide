{
 "cells": [
  {
   "cell_type": "markdown",
   "metadata": {},
   "source": [
    "# 2. Classes and Objects"
   ]
  },
  {
   "cell_type": "markdown",
   "metadata": {},
   "source": [
    "### Attributes\n",
    "\n",
    "Objects in Python have _attributes_. Even objects like modules have attributes, which usually come in the form of functions or classes (since that's usually what we want to import), but they can really be anything just like any other object."
   ]
  },
  {
   "cell_type": "code",
   "execution_count": 2,
   "metadata": {},
   "outputs": [
    {
     "ename": "AttributeError",
     "evalue": "'str' object has no attribute 'doesnt_exist'",
     "output_type": "error",
     "traceback": [
      "\u001b[0;31m---------------------------------------------------------------------------\u001b[0m",
      "\u001b[0;31mAttributeError\u001b[0m                            Traceback (most recent call last)",
      "Cell \u001b[0;32mIn[2], line 2\u001b[0m\n\u001b[1;32m      1\u001b[0m x \u001b[38;5;241m=\u001b[39m \u001b[38;5;124m'\u001b[39m\u001b[38;5;124mhello\u001b[39m\u001b[38;5;124m'\u001b[39m\n\u001b[0;32m----> 2\u001b[0m \u001b[43mx\u001b[49m\u001b[38;5;241;43m.\u001b[39;49m\u001b[43mdoesnt_exist\u001b[49m()\n",
      "\u001b[0;31mAttributeError\u001b[0m: 'str' object has no attribute 'doesnt_exist'"
     ]
    }
   ],
   "source": [
    "x = 'hello'\n",
    "x.doesnt_exist()"
   ]
  },
  {
   "cell_type": "code",
   "execution_count": 3,
   "metadata": {},
   "outputs": [
    {
     "ename": "AttributeError",
     "evalue": "'str' object has no attribute 'also_doesnt_exist'",
     "output_type": "error",
     "traceback": [
      "\u001b[0;31m---------------------------------------------------------------------------\u001b[0m",
      "\u001b[0;31mAttributeError\u001b[0m                            Traceback (most recent call last)",
      "Cell \u001b[0;32mIn[3], line 1\u001b[0m\n\u001b[0;32m----> 1\u001b[0m a \u001b[38;5;241m=\u001b[39m \u001b[43mx\u001b[49m\u001b[38;5;241;43m.\u001b[39;49m\u001b[43malso_doesnt_exist\u001b[49m\n",
      "\u001b[0;31mAttributeError\u001b[0m: 'str' object has no attribute 'also_doesnt_exist'"
     ]
    }
   ],
   "source": [
    "a = x.also_doesnt_exist"
   ]
  },
  {
   "cell_type": "markdown",
   "metadata": {},
   "source": [
    "When we try to access an attribute of an object that doesn't exist, whether it be a function or some other value, we get an `AttributeError`"
   ]
  },
  {
   "cell_type": "markdown",
   "metadata": {},
   "source": [
    "If we want to see all the attributes of an object we can use `object.__dict__` to access its attributes as a dictionary."
   ]
  },
  {
   "cell_type": "code",
   "execution_count": 5,
   "metadata": {},
   "outputs": [
    {
     "data": {
      "text/plain": [
       "{'x': 1234, 'y': 'hi'}"
      ]
     },
     "execution_count": 5,
     "metadata": {},
     "output_type": "execute_result"
    }
   ],
   "source": [
    "class Thing:\n",
    "    def __init__(self, x):\n",
    "        self.x = x\n",
    "    \n",
    "    def display(self):\n",
    "        print(self.x)\n",
    "\n",
    "something = Thing(1234)\n",
    "something.y = 'hi'\n",
    "something.__dict__"
   ]
  },
  {
   "cell_type": "markdown",
   "metadata": {},
   "source": [
    "Notice however that the methods `__init__` and `display` are not in this dictionary. This is because they belong to the class `Thing` as opposed to each instance of thing, because the call `something.display()` is synonymous with `Thing.display(something)` (where something is bound to the self parameter)\n",
    "\n",
    "This does mean that we should see these methods in the `__dict__` of the class itself, because types are also objects."
   ]
  },
  {
   "cell_type": "code",
   "execution_count": 7,
   "metadata": {},
   "outputs": [
    {
     "data": {
      "text/plain": [
       "mappingproxy({'__module__': '__main__',\n",
       "              '__init__': <function __main__.Thing.__init__(self, x)>,\n",
       "              'display': <function __main__.Thing.display(self)>,\n",
       "              '__dict__': <attribute '__dict__' of 'Thing' objects>,\n",
       "              '__weakref__': <attribute '__weakref__' of 'Thing' objects>,\n",
       "              '__doc__': None})"
      ]
     },
     "execution_count": 7,
     "metadata": {},
     "output_type": "execute_result"
    }
   ],
   "source": [
    "Thing.__dict__"
   ]
  },
  {
   "cell_type": "markdown",
   "metadata": {},
   "source": [
    "Note that this is a mappingproxy and not a dict. We can access it similar to a dictionary but we can't write to it like a dictionary. Note these other dunders:\n",
    "\n",
    "- `__module__` - the module that Thing was defined\n",
    "- `__doc__` - the docstring of Thing\n",
    "- `__annotations__` - annotations on Thing's attributes"
   ]
  },
  {
   "cell_type": "markdown",
   "metadata": {},
   "source": [
    "### Accessing attributes of objects and classes\n",
    "\n",
    "1. When a value is defined in a class, regardless of if it's a `def` or assignment, it is a _class attribute_\n",
    "2. If you store any value in an object, it's an _object attribute_\n",
    "3. If you access the attribute of an object, it checks the object first, then its class.\n",
    "4. If you access the attribute of a class, it just checks if the class has those attributes\n",
    "\n",
    "If an attribute that we're looking for doesn't exist in the context that we were searching for, we get an `AttributeError`"
   ]
  },
  {
   "cell_type": "markdown",
   "metadata": {},
   "source": [
    "### Static methods and class methods\n",
    "Similar to how classes can have attributes that store values that apply to the class as a whole, we can also have static methods that behave in a similar vein."
   ]
  },
  {
   "cell_type": "code",
   "execution_count": 3,
   "metadata": {},
   "outputs": [],
   "source": [
    "class SomethingElse:\n",
    "    class_attribute = 0\n",
    "\n",
    "    def __init__(self, value):\n",
    "        SomethingElse.class_attribute += value\n",
    "    \n",
    "    @staticmethod\n",
    "    def get_value():\n",
    "        return SomethingElse.class_attribute"
   ]
  },
  {
   "cell_type": "markdown",
   "metadata": {},
   "source": [
    "The `@staticmethod` decorator in this case is applied to `get_value`. All of these methods belong to the class SomethingElse, however the static method lacks a self parameter, so when it is called from an instance of SomethingElse, the instance isn't _bound_ to it."
   ]
  },
  {
   "cell_type": "code",
   "execution_count": 5,
   "metadata": {},
   "outputs": [
    {
     "name": "stdout",
     "output_type": "stream",
     "text": [
      "5 5 5\n"
     ]
    }
   ],
   "source": [
    "a = SomethingElse(2)\n",
    "b = SomethingElse(3)\n",
    "print(a.get_value(), b.get_value(), SomethingElse.get_value())\n",
    "# all 3 calls here are functionally indistinguishable, following the rules for class attributes detailed above"
   ]
  },
  {
   "cell_type": "markdown",
   "metadata": {},
   "source": [
    "**Class methods** are similar to static methods, however they apply to the class as a whole rather than an instance."
   ]
  },
  {
   "cell_type": "code",
   "execution_count": 6,
   "metadata": {},
   "outputs": [],
   "source": [
    "class AnotherThing:\n",
    "    def method1(self):\n",
    "        pass # Instances are bound to self\n",
    "\n",
    "    @staticmethod\n",
    "    def method2():\n",
    "        pass # Nothing is bound\n",
    "\n",
    "    @classmethod\n",
    "    def method3(cls):\n",
    "        pass # Class is bound"
   ]
  },
  {
   "cell_type": "markdown",
   "metadata": {},
   "source": [
    "A use case for class methods are _factory methods_ which creates an object of a type. For example, I may have a class called `Vector` which given certain values and the class can return a `Vector` object to me. *mathematical vector not c++"
   ]
  }
 ],
 "metadata": {
  "kernelspec": {
   "display_name": "Python 3",
   "language": "python",
   "name": "python3"
  },
  "language_info": {
   "codemirror_mode": {
    "name": "ipython",
    "version": 3
   },
   "file_extension": ".py",
   "mimetype": "text/x-python",
   "name": "python",
   "nbconvert_exporter": "python",
   "pygments_lexer": "ipython3",
   "version": "3.12.1"
  }
 },
 "nbformat": 4,
 "nbformat_minor": 2
}
